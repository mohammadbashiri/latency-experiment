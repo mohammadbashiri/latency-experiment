{
 "cells": [
  {
   "cell_type": "code",
   "execution_count": 1,
   "metadata": {
    "collapsed": true
   },
   "outputs": [],
   "source": [
    "import numpy as np\n",
    "from pyglet.gl import *\n",
    "from collections import deque"
   ]
  },
  {
   "cell_type": "code",
   "execution_count": 451,
   "metadata": {
    "collapsed": true
   },
   "outputs": [],
   "source": [
    "def gen_data():\n",
    "    x = round(np.random.random() * 2 - .5, 2)\n",
    "    y = round(np.random.random() * 2 - .5, 2)\n",
    "    return x, y"
   ]
  },
  {
   "cell_type": "code",
   "execution_count": 452,
   "metadata": {
    "collapsed": true
   },
   "outputs": [],
   "source": [
    "def store_data(nsample):\n",
    "    dd = deque(maxlen=nsample)\n",
    "    while True:\n",
    "        data = yield\n",
    "        dd.append(data)\n",
    "        yield dd"
   ]
  },
  {
   "cell_type": "code",
   "execution_count": 725,
   "metadata": {
    "collapsed": true
   },
   "outputs": [],
   "source": [
    "def repeat_elem(ddxt):\n",
    "    \n",
    "    ddxtr = deque(maxlen=2*len(ddxt)-1) # the first and last one are not repeated\n",
    "    \n",
    "    for ind in range(len(ddxt)):\n",
    "        if ind < 2:\n",
    "            ddxtr.append(ddxt[ind])\n",
    "        else:\n",
    "            ddxtr.append(ddxt[ind-1])\n",
    "            ddxtr.append(ddxt[ind])\n",
    "            \n",
    "    return ddxtr"
   ]
  },
  {
   "cell_type": "code",
   "execution_count": 726,
   "metadata": {
    "collapsed": true
   },
   "outputs": [],
   "source": [
    "def ready_to_draw(dd):\n",
    "    \n",
    "    # separate x and y and add t to every componenet\n",
    "    ddxt = [(dd[x][0], t) for t, x in enumerate(range(len(dd)))]\n",
    "    ddyt = [(dd[x][1], t) for t, x in enumerate(range(len(dd)))]\n",
    "    \n",
    "    # repeat the second elemnt onwards\n",
    "    ddxtr = repeat_elem(ddxt)\n",
    "    ddytr = repeat_elem(ddyt)\n",
    "    \n",
    "    ddxtr = tuple(np.array(ddxtr).flatten())\n",
    "    ddytr = tuple(np.array(ddytr).flatten())\n",
    "    \n",
    "    return ddxtr, ddytr"
   ]
  },
  {
   "cell_type": "code",
   "execution_count": 727,
   "metadata": {
    "collapsed": false,
    "scrolled": true
   },
   "outputs": [
    {
     "name": "stdout",
     "output_type": "stream",
     "text": [
      "deque([(0.96, 0)], maxlen=1)\n",
      "deque([(0.96, 0), (0.69, 1)], maxlen=3)\n",
      "deque([(0.96, 0), (0.69, 1), (0.69, 1), (0.65, 2)], maxlen=5)\n",
      "deque([(0.96, 0), (0.69, 1), (0.69, 1), (0.65, 2), (0.65, 2), (0.84, 3)], maxlen=7)\n",
      "deque([(0.69, 0), (0.65, 1), (0.65, 1), (0.84, 2), (0.84, 2), (0.56, 3)], maxlen=7)\n",
      "deque([(0.65, 0), (0.84, 1), (0.84, 1), (0.56, 2), (0.56, 2), (0.85, 3)], maxlen=7)\n",
      "deque([(0.84, 0), (0.56, 1), (0.56, 1), (0.85, 2), (0.85, 2), (0.7, 3)], maxlen=7)\n",
      "deque([(0.56, 0), (0.85, 1), (0.85, 1), (0.7, 2), (0.7, 2), (0.46, 3)], maxlen=7)\n",
      "deque([(0.85, 0), (0.7, 1), (0.7, 1), (0.46, 2), (0.46, 2), (1.32, 3)], maxlen=7)\n",
      "deque([(0.7, 0), (0.46, 1), (0.46, 1), (1.32, 2), (1.32, 2), (0.05, 3)], maxlen=7)\n"
     ]
    }
   ],
   "source": [
    "# start data streaming (this is simulating the whole process, reading, storing, and drawing)\n",
    "nsample = 4\n",
    "storeIt = store_data(nsample)\n",
    "\n",
    "for frame in range(10):\n",
    "    \n",
    "    # read data\n",
    "    data = gen_data()\n",
    "    \n",
    "    # store data\n",
    "    next(storeIt)\n",
    "    stored = storeIt.send(data)\n",
    "        \n",
    "    # make the data ready for drawing\n",
    "    datax, datay = ready_to_draw(stored)\n",
    "    print(datax)\n",
    "    \n",
    "    # draw the data"
   ]
  },
  {
   "cell_type": "markdown",
   "metadata": {},
   "source": [
    "## Examples"
   ]
  },
  {
   "cell_type": "code",
   "execution_count": 273,
   "metadata": {
    "collapsed": false
   },
   "outputs": [],
   "source": [
    "def double_inputs():\n",
    "     while True:\n",
    "        x = yield\n",
    "        yield x * 2\n",
    "\n",
    "gen = double_inputs()"
   ]
  },
  {
   "cell_type": "code",
   "execution_count": 274,
   "metadata": {
    "collapsed": true
   },
   "outputs": [],
   "source": [
    "i = 0"
   ]
  },
  {
   "cell_type": "code",
   "execution_count": 318,
   "metadata": {
    "collapsed": false,
    "scrolled": true
   },
   "outputs": [
    {
     "name": "stdout",
     "output_type": "stream",
     "text": [
      "86\n"
     ]
    }
   ],
   "source": [
    "next(gen)\n",
    "print(gen.send(i))\n",
    "i += 1"
   ]
  },
  {
   "cell_type": "code",
   "execution_count": 561,
   "metadata": {
    "collapsed": false
   },
   "outputs": [
    {
     "data": {
      "text/plain": [
       "deque([(1, 10), (2, 20), (3, 30), (4, 40), (5, 50)])"
      ]
     },
     "execution_count": 561,
     "metadata": {},
     "output_type": "execute_result"
    }
   ],
   "source": [
    "dd = deque(maxlen=5)\n",
    "dd.append((1,10))\n",
    "dd.append((2,20))\n",
    "dd.append((3,30))\n",
    "dd.append((4,40))\n",
    "dd.append((5,50))\n",
    "\n",
    "dd"
   ]
  },
  {
   "cell_type": "code",
   "execution_count": 562,
   "metadata": {
    "collapsed": false
   },
   "outputs": [],
   "source": [
    "# separating x and y\n",
    "ddx = [dd[x][0] for x in range(len(dd))]\n",
    "ddy = [dd[x][1] for x in range(len(dd))]"
   ]
  },
  {
   "cell_type": "code",
   "execution_count": 563,
   "metadata": {
    "collapsed": false
   },
   "outputs": [
    {
     "name": "stdout",
     "output_type": "stream",
     "text": [
      "ddx:  [1, 2, 3, 4, 5]\n",
      "ddy:  [10, 20, 30, 40, 50]\n"
     ]
    }
   ],
   "source": [
    "print('ddx: ', ddx)\n",
    "print('ddy: ', ddy)"
   ]
  },
  {
   "cell_type": "code",
   "execution_count": 611,
   "metadata": {
    "collapsed": false
   },
   "outputs": [
    {
     "data": {
      "text/plain": [
       "[(1, 0), (2, 1), (3, 2), (4, 3), (5, 4)]"
      ]
     },
     "execution_count": 611,
     "metadata": {},
     "output_type": "execute_result"
    }
   ],
   "source": [
    "# adding the time\n",
    "ddxt = [(dd[x][0], t) for t, x in enumerate(range(len(dd)))]\n",
    "ddxt"
   ]
  },
  {
   "cell_type": "code",
   "execution_count": 612,
   "metadata": {
    "collapsed": false
   },
   "outputs": [
    {
     "name": "stdout",
     "output_type": "stream",
     "text": [
      "9\n"
     ]
    }
   ],
   "source": [
    "# repeating the second element onward\n",
    "ddxtr = deque(maxlen=2*len(ddxt)-1)\n",
    "print(ddxtr.maxlen)"
   ]
  },
  {
   "cell_type": "code",
   "execution_count": 615,
   "metadata": {
    "collapsed": false
   },
   "outputs": [],
   "source": [
    "for x in range(len(ddxt)):\n",
    "    if x == 0:\n",
    "        ddxtr.append(ddxt[x])\n",
    "    else:\n",
    "        ddxtr.append(ddxt[x])\n",
    "        ddxtr.append(ddxt[x])"
   ]
  },
  {
   "cell_type": "code",
   "execution_count": 671,
   "metadata": {
    "collapsed": false
   },
   "outputs": [],
   "source": [
    "arr = tuple(np.array(ddxtr).ravel())"
   ]
  },
  {
   "cell_type": "code",
   "execution_count": 672,
   "metadata": {
    "collapsed": false
   },
   "outputs": [
    {
     "data": {
      "text/plain": [
       "(1, 0, 2, 1, 2, 1, 3, 2, 3, 2, 4, 3, 4, 3, 5, 4, 5, 4)"
      ]
     },
     "execution_count": 672,
     "metadata": {},
     "output_type": "execute_result"
    }
   ],
   "source": [
    "arr"
   ]
  },
  {
   "cell_type": "markdown",
   "metadata": {},
   "source": [
    "### List Comprehension"
   ]
  },
  {
   "cell_type": "code",
   "execution_count": 729,
   "metadata": {
    "collapsed": false
   },
   "outputs": [
    {
     "data": {
      "text/plain": [
       "[('A', 'A'),\n",
       " ('B', 'B'),\n",
       " ('C', 'C'),\n",
       " ('D', 'D'),\n",
       " ('E', 'E'),\n",
       " ('F', 'F'),\n",
       " ('G', 'G'),\n",
       " ('H', 'H')]"
      ]
     },
     "execution_count": 729,
     "metadata": {},
     "output_type": "execute_result"
    }
   ],
   "source": [
    "data = 'ABCDEFGH'\n",
    "final = []\n",
    "final = [(el1, el2) for el1, el2, in zip(data, data)]\n",
    "final"
   ]
  },
  {
   "cell_type": "code",
   "execution_count": 731,
   "metadata": {
    "collapsed": false
   },
   "outputs": [
    {
     "data": {
      "text/plain": [
       "['A',\n",
       " 'A',\n",
       " 'B',\n",
       " 'B',\n",
       " 'C',\n",
       " 'C',\n",
       " 'D',\n",
       " 'D',\n",
       " 'E',\n",
       " 'E',\n",
       " 'F',\n",
       " 'F',\n",
       " 'G',\n",
       " 'G',\n",
       " 'H',\n",
       " 'H']"
      ]
     },
     "execution_count": 731,
     "metadata": {},
     "output_type": "execute_result"
    }
   ],
   "source": [
    "final = []\n",
    "final = [e for el in zip(data, data) for e in el]\n",
    "final"
   ]
  },
  {
   "cell_type": "code",
   "execution_count": 732,
   "metadata": {
    "collapsed": false
   },
   "outputs": [
    {
     "data": {
      "text/plain": [
       "['A', 'B', 'B', 'C', 'C', 'D', 'D', 'E', 'E', 'F', 'F', 'G', 'G', 'H']"
      ]
     },
     "execution_count": 732,
     "metadata": {},
     "output_type": "execute_result"
    }
   ],
   "source": [
    "final = []\n",
    "final = [e for el in zip(data[:-1], data[1:]) for e in el]\n",
    "final"
   ]
  },
  {
   "cell_type": "markdown",
   "metadata": {},
   "source": [
    "Let's try the same thing with a deque"
   ]
  },
  {
   "cell_type": "code",
   "execution_count": 733,
   "metadata": {
    "collapsed": false
   },
   "outputs": [
    {
     "data": {
      "text/plain": [
       "deque([(1, 10), (2, 20), (3, 30), (4, 40), (5, 50)])"
      ]
     },
     "execution_count": 733,
     "metadata": {},
     "output_type": "execute_result"
    }
   ],
   "source": [
    "dd = deque(maxlen=5)\n",
    "dd.append((1,10))\n",
    "dd.append((2,20))\n",
    "dd.append((3,30))\n",
    "dd.append((4,40))\n",
    "dd.append((5,50))\n",
    "\n",
    "dd"
   ]
  },
  {
   "cell_type": "code",
   "execution_count": 735,
   "metadata": {
    "collapsed": false
   },
   "outputs": [
    {
     "data": {
      "text/plain": [
       "[(1, 0), (2, 1), (3, 2), (4, 3), (5, 4)]"
      ]
     },
     "execution_count": 735,
     "metadata": {},
     "output_type": "execute_result"
    }
   ],
   "source": [
    "# extract x and add the time\n",
    "ddxt = [(dd[x][0], t) for t, x in enumerate(range(len(dd)))]\n",
    "ddxt"
   ]
  },
  {
   "cell_type": "code",
   "execution_count": 738,
   "metadata": {
    "collapsed": false
   },
   "outputs": [
    {
     "data": {
      "text/plain": [
       "[1, 0, 2, 1, 2, 1, 3, 2, 3, 2, 4, 3, 4, 3, 5, 4]"
      ]
     },
     "execution_count": 738,
     "metadata": {},
     "output_type": "execute_result"
    }
   ],
   "source": [
    "ddxtr = [e for ell in zip(ddxt[:-1], ddxt[1:]) for el in ell for e in el]\n",
    "ddxtr"
   ]
  },
  {
   "cell_type": "markdown",
   "metadata": {
    "collapsed": true
   },
   "source": [
    "So I need a function that gets a value, and updates a deque, but when the deck reaches the maxlen then starts replacing from the begining keeping the latest updated elements"
   ]
  },
  {
   "cell_type": "code",
   "execution_count": 199,
   "metadata": {
    "collapsed": true
   },
   "outputs": [],
   "source": [
    "def store_data(nsample, record = False):\n",
    "    dd = deque(maxlen=nsample)\n",
    "    record = record\n",
    "    counter = 0\n",
    "    ind = 0\n",
    "    while True:\n",
    "        \n",
    "        data = yield\n",
    "        \n",
    "        if counter < nsample:\n",
    "            dd.append(data)\n",
    "            counter += 1\n",
    "        else:\n",
    "            dd[ind] = data\n",
    "            \n",
    "        ind += 1\n",
    "        \n",
    "        if ind == nsample:\n",
    "            ind = 0\n",
    "            \n",
    "        yield dd"
   ]
  },
  {
   "cell_type": "code",
   "execution_count": 216,
   "metadata": {
    "collapsed": true
   },
   "outputs": [],
   "source": [
    "def record_data():\n",
    "    ss = []\n",
    "    while True:\n",
    "        data = yield\n",
    "        ss.append(data)\n",
    "        yield ss"
   ]
  },
  {
   "cell_type": "code",
   "execution_count": 217,
   "metadata": {
    "collapsed": false
   },
   "outputs": [],
   "source": [
    "storeIt = store_data(5)\n",
    "recordIt = record_data()\n",
    "i = 0"
   ]
  },
  {
   "cell_type": "code",
   "execution_count": 237,
   "metadata": {
    "collapsed": false
   },
   "outputs": [
    {
     "name": "stdout",
     "output_type": "stream",
     "text": [
      "deque([15, 16, 17, 18, 19], maxlen=5)\n",
      "[0, 1, 2, 3, 4, 5, 6, 7, 8, 9, 10, 11, 12, 13, 14, 15, 16, 17, 18, 19]\n"
     ]
    }
   ],
   "source": [
    "next(storeIt)\n",
    "print(storeIt.send(i))\n",
    "next(recordIt)\n",
    "print(recordIt.send(i))\n",
    "i += 1"
   ]
  },
  {
   "cell_type": "code",
   "execution_count": 197,
   "metadata": {
    "collapsed": false
   },
   "outputs": [
    {
     "data": {
      "text/plain": [
       "[0, 1, 2, 3, 4, 5, 6, 7, 8, 9, 10, 11, 12, 13, 14, 15, 16, 17, 18, 19, 20, 21]"
      ]
     },
     "execution_count": 197,
     "metadata": {},
     "output_type": "execute_result"
    }
   ],
   "source": [
    "ss"
   ]
  }
 ],
 "metadata": {
  "anaconda-cloud": {},
  "kernelspec": {
   "display_name": "Python [conda root]",
   "language": "python",
   "name": "conda-root-py"
  },
  "language_info": {
   "codemirror_mode": {
    "name": "ipython",
    "version": 3
   },
   "file_extension": ".py",
   "mimetype": "text/x-python",
   "name": "python",
   "nbconvert_exporter": "python",
   "pygments_lexer": "ipython3",
   "version": "3.5.2"
  }
 },
 "nbformat": 4,
 "nbformat_minor": 1
}
