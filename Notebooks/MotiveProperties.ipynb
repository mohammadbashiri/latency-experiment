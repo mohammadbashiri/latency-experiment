{
 "cells": [
  {
   "cell_type": "markdown",
   "metadata": {},
   "source": [
    "Here is a list of properties that could be modified in motive for tracking rigid bodies"
   ]
  },
  {
   "cell_type": "markdown",
   "metadata": {},
   "source": [
    "## Calibrate Layout\n",
    "\n"
   ]
  },
  {
   "cell_type": "markdown",
   "metadata": {},
   "source": [
    "### Camera"
   ]
  },
  {
   "cell_type": "markdown",
   "metadata": {},
   "source": [
    "In this section, once you click on any object, you can modify the properties in ***properties*** section which appears in bottom left"
   ]
  },
  {
   "cell_type": "markdown",
   "metadata": {},
   "source": [
    "**FPS (Frames per second):**\n",
    "The Frame Rate (FPS) value determines the number of images a camera will capture per second. A higher FPS value will record more data within a given time. A lower FPS value will allow for higher exposure values for brighter images and will also reduce network traffic.\n",
    "The maximum frame rate of the system will be limited to that of the camera with the lowest maximum frame rate.<br/>\n",
    "\n",
    "**EXP (Exposure):**\n",
    "The Exposure value in the camera setting controls how long the shutter remains open, per frame. Increasing the Exposure value allows more light in, creating a brighter image that can increase visibility for small and dim markers. However, setting the Exposure too high can introduce merging of adjacent markers and marker blurring—all of which can negatively impact the tracking quality.<br/>\n",
    "\n",
    "**THR (Threshold):**\n",
    "The Threshold setting determines a minimum brightness of a pixel for it to be considered in the calculation of a 2D object. All pixels with a brightness below the Threshold setting are ignored.\n",
    "Increasing the Threshold value can help filter light interference from non-markers in the camera view. Lowering the Threshold value can allow less-visible markers (e.g. small markers, worn markers, and markers at longer distances from the camera) to be seen by the camera.<br/>\n",
    "\n",
    "**LED (IR LEDs):**\n",
    "LED illumination sets the brightness of the camera's IR LED ring. Higher LED values allow cameras to emit more IR light, which can increase the usable camera-to-marker range. However, a value that is too high may introduce reflections from non-marker objects, which can pollute otherwise good data. Generally, setting the illumination at maximum is recommended except when capturing in a small volume.<br/>\n",
    "\n",
    "**Reference**: [OptiTrack official website FAQ](http://optitrack.com/support/faq/general.html)"
   ]
  },
  {
   "cell_type": "markdown",
   "metadata": {},
   "source": [
    "**Gain:**\n",
    "\n",
    "**Filter Switch:**\n",
    "\n",
    "**Video Type:**\n",
    "\n",
    "**Point Cloud:**"
   ]
  },
  {
   "cell_type": "markdown",
   "metadata": {},
   "source": [
    "### Reconstruction"
   ]
  },
  {
   "cell_type": "markdown",
   "metadata": {},
   "source": [
    "Reference: [OptiTrack Wiki](https://v20.wiki.optitrack.com/index.php?title=Application_Settings:_Live_Reconstruction#Performance.2FQuality)"
   ]
  },
  {
   "cell_type": "markdown",
   "metadata": {},
   "source": [
    "**Maximum Ray Length (m):**\n",
    "This sets the maximum distance, in meters, a marker can be from the camera to be considered for 3D reconstruction. In very large volumes with high resolution cameras, this value can be increased for a longer tracking range or to allow contributions from more cameras in the setup. This setting can also be reduced to filter out longer rays from reconstruction. Longer rays generally produce less accurate data than shorter rays.<br/>\n",
    "When capturing in a large-size volume with a medium-size – 20 ~ 50 cameras – camera system, this setting can be adjusted for better tracking results. Tracking rays from cameras at the far end of the volume may be inaccurate for tracking markers on the opposite end of the volume, and the unstable rays may contribute to ghost marker reconstructions. In this case, lower the maximum ray length to restrict reconstruction contributions from cameras tracking at long distances. For captures vulnerable to frequent marker occlusions, adjusting this constraint is not recommended since more camera coverage is needed for preventing the occlusions. **Note that lowering this setting can take a toll on performance at higher camera counts and marker counts because the solver has to perform numerous calculations per second to decide which rays are good**.\n",
    "\n",
    "**Performance/Quality:** \n",
    "This setting enables the Ray Ranking, which calculates quality of each ray to potentially improve the reconstruction. Setting this to zero means that ray ranking is off, while 1 through 4 set the number of the evaluation iterations; 4 being 4 iterations. Setting this value to the max of 4 will slow down the reconstruction process but will produce more accurate results. <br/>\n",
    "The Ray Ranking increases the stability of the reconstruction but at a heavy performance cost. The ray quality is analyzed by comparing convergence of rays that are contributing to the same marker. An average converging point is calculated, and each ray is ranked starting from the one closest to the converging point. Then, each ray is weighed differently in the Point Cloud reconstruction engine according to the assigned rankings. <br/>\n",
    "This setting is useful especially when there are multiple rays contributing to a marker reconstruction. If you're working with small to medium marker counts, enabling this will not have an evident improvement on performance. Also, when precise real-time performance is required, disable this setting especially for a setup with numerous cameras.<br/>\n",
    "\n",
    "**NOTE:** in the version we are using this variable is called ***Ray Ranking***. [Reference](https://v110.wiki.optitrack.com/index.php?title=Reconstruction)\n",
    "\n",
    "**Performance/Quality:**"
   ]
  },
  {
   "cell_type": "markdown",
   "metadata": {},
   "source": [
    "---"
   ]
  },
  {
   "cell_type": "markdown",
   "metadata": {},
   "source": [
    "## Create Layout"
   ]
  },
  {
   "cell_type": "markdown",
   "metadata": {},
   "source": [
    "In this layout, the default settings of objects can be modofied"
   ]
  },
  {
   "cell_type": "markdown",
   "metadata": {},
   "source": [
    "---"
   ]
  },
  {
   "cell_type": "markdown",
   "metadata": {},
   "source": [
    "## Edit Layout"
   ]
  },
  {
   "cell_type": "markdown",
   "metadata": {},
   "source": []
  },
  {
   "cell_type": "markdown",
   "metadata": {},
   "source": [
    "---"
   ]
  },
  {
   "cell_type": "markdown",
   "metadata": {},
   "source": [
    "**Default (starting) values**\n",
    "**FPS:** 119<br/>\n",
    "**EXP:** 552<br/>\n",
    "**THR:** 59 <br/>\n",
    "**LED:** Always set to 0, because it introduces noise for the sensor <br/>\n",
    "\n",
    "\n",
    "\n",
    "Name of measurement file for this setting:  s03_230218_white_randFreq_ObjectMode_CamFR119"
   ]
  },
  {
   "cell_type": "markdown",
   "metadata": {},
   "source": [
    "## Conclusion"
   ]
  },
  {
   "cell_type": "markdown",
   "metadata": {},
   "source": []
  }
 ],
 "metadata": {
  "kernelspec": {
   "display_name": "Python 3",
   "language": "python",
   "name": "python3"
  },
  "language_info": {
   "codemirror_mode": {
    "name": "ipython",
    "version": 3
   },
   "file_extension": ".py",
   "mimetype": "text/x-python",
   "name": "python",
   "nbconvert_exporter": "python",
   "pygments_lexer": "ipython3",
   "version": "3.5.4"
  }
 },
 "nbformat": 4,
 "nbformat_minor": 2
}
